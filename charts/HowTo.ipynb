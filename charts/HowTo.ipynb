{
 "cells": [
  {
   "cell_type": "code",
   "execution_count": 1,
   "metadata": {},
   "outputs": [
    {
     "name": "stdout",
     "output_type": "stream",
     "text": [
      "8795 -> 386.76\n",
      "8107 -> 356.51\n",
      "9096 -> 400.0\n",
      "8322 -> 365.96\n",
      "8795 -> 386.76\n",
      "8830 -> 388.3\n"
     ]
    }
   ],
   "source": [
    "import hfpy_utils\n",
    "import swimclub\n",
    "fn = \"Darius-13-100m-Fly.txt\"\n",
    "(swimmer, age, distance, stroke, *_) = swimclub.read_swim_data(fn)\n",
    "title = f\"{swimmer} (Under{age}) {distance} {stroke}\"\n",
    "\n",
    "*_, converts = swimclub.read_swim_data(fn)\n",
    "for n in converts:\n",
    "    print(n, \"->\", hfpy_utils.convert2range(n, 0, max(converts), 0, 400))"
   ]
  },
  {
   "cell_type": "code",
   "execution_count": 1,
   "metadata": {},
   "outputs": [
    {
     "data": {
      "text/plain": [
       "True"
      ]
     },
     "execution_count": 1,
     "metadata": {},
     "output_type": "execute_result"
    }
   ],
   "source": [
    "import os\n",
    "import swimclub\n",
    "import hfpy_utils\n",
    "FOLDER = \"swimdata/\"\n",
    "fn = \"Darius-13-100m-Fly.txt\"\n",
    "with open(FOLDER+fn) as df:\n",
    "    data = df.readlines()\n",
    "(swimmer, age, distance, stroke, *_) = swimclub.read_swim_data(fn)\n",
    "\n",
    "title = f\"{swimmer} (Under{age}) {distance} {stroke}\"\n",
    "html= f\"\"\"<!DOCTYPE html>\n",
    " <html>\n",
    "  <head>\n",
    "    <title>{title}</title>\n",
    "  </head>\n",
    "  <body>\n",
    "     <h3>{title}</h3>\n",
    "    \"\"\"\n",
    "html\n",
    "*_, times, average, converts = swimclub.read_swim_data(fn)\n",
    "from_max = max(converts)\n",
    "svgs = \" \"\n",
    "times.reverse()\n",
    "converts.reverse()\n",
    "for n, t in enumerate(times):\n",
    "    bar_width = hfpy_utils.convert2range(converts[n], 0, from_max, 0, 350)\n",
    "    svgs = svgs + f\"\"\"\n",
    "                       <svg height = \"30\" width = \"400\">\n",
    "                         <rect height=\"30\" width=\"{bar_width}\" style=\"fill:rgb(0,0,255);\" />\n",
    "                       </svg>{t}<br/>\n",
    "                    \"\"\"\n",
    "footer = f\"\"\"\n",
    "         <p>Average time: {average}</p>\n",
    "   </body>\n",
    "</html>\n",
    "\"\"\"\n",
    "save_to = f\"charts/{fn.removesuffix('.txt')}.html\"\n",
    "page = html + svgs + footer\n",
    "with open(save_to,\"w\") as sf:\n",
    "    print(page, file=sf)\n",
    "\n",
    "\n",
    "import os\n",
    "import webbrowser\n",
    "webbrowser.open(\"file://\" + os.path.realpath(save_to))\n",
    "\n"
   ]
  },
  {
   "cell_type": "code",
   "execution_count": 2,
   "metadata": {},
   "outputs": [
    {
     "name": "stdout",
     "output_type": "stream",
     "text": [
      "60\n"
     ]
    }
   ],
   "source": []
  },
  {
   "cell_type": "code",
   "execution_count": null,
   "metadata": {},
   "outputs": [],
   "source": []
  }
 ],
 "metadata": {
  "kernelspec": {
   "display_name": "Python 3.10.6 64-bit",
   "language": "python",
   "name": "python3"
  },
  "language_info": {
   "codemirror_mode": {
    "name": "ipython",
    "version": 3
   },
   "file_extension": ".py",
   "mimetype": "text/x-python",
   "name": "python",
   "nbconvert_exporter": "python",
   "pygments_lexer": "ipython3",
   "version": "3.12.5"
  },
  "orig_nbformat": 4,
  "vscode": {
   "interpreter": {
    "hash": "aee8b7b246df8f9039afb4144a1f6fd8d2ca17a180786b69acc140d282b71a49"
   }
  }
 },
 "nbformat": 4,
 "nbformat_minor": 2
}
