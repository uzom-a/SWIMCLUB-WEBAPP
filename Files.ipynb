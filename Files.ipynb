{
 "cells": [
  {
   "cell_type": "code",
   "execution_count": 1,
   "metadata": {},
   "outputs": [],
   "source": [
    "import swimclub"
   ]
  },
  {
   "cell_type": "code",
   "execution_count": 2,
   "metadata": {},
   "outputs": [
    {
     "data": {
      "text/plain": [
       "('Alison',\n",
       " '14',\n",
       " '100m',\n",
       " 'Breast',\n",
       " ['1:34.71',\n",
       "  '1:37.87',\n",
       "  '1:35.15',\n",
       "  '1:37.20',\n",
       "  '1:36.29',\n",
       "  '1:36.00',\n",
       "  '1:35.63',\n",
       "  '1:35.42',\n",
       "  '1:42.01'],\n",
       " '1:36.7')"
      ]
     },
     "execution_count": 2,
     "metadata": {},
     "output_type": "execute_result"
    }
   ],
   "source": [
    "data = swimclub.read_swim_data(\"Alison-14-100m-Breast.txt\")\n",
    "data"
   ]
  },
  {
   "cell_type": "code",
   "execution_count": 3,
   "metadata": {},
   "outputs": [
    {
     "name": "stdout",
     "output_type": "stream",
     "text": [
      "['__add__', '__class__', '__class_getitem__', '__contains__', '__delattr__', '__dir__', '__doc__', '__eq__', '__format__', '__ge__', '__getattribute__', '__getitem__', '__getnewargs__', '__getstate__', '__gt__', '__hash__', '__init__', '__init_subclass__', '__iter__', '__le__', '__len__', '__lt__', '__mul__', '__ne__', '__new__', '__reduce__', '__reduce_ex__', '__repr__', '__rmul__', '__setattr__', '__sizeof__', '__str__', '__subclasshook__', 'count', 'index']\n"
     ]
    }
   ],
   "source": [
    "print(dir(data))"
   ]
  },
  {
   "cell_type": "code",
   "execution_count": 4,
   "metadata": {},
   "outputs": [
    {
     "data": {
      "text/plain": [
       "['1:34.71',\n",
       " '1:37.87',\n",
       " '1:35.15',\n",
       " '1:37.20',\n",
       " '1:36.29',\n",
       " '1:36.00',\n",
       " '1:35.63',\n",
       " '1:35.42',\n",
       " '1:42.01']"
      ]
     },
     "execution_count": 4,
     "metadata": {},
     "output_type": "execute_result"
    }
   ],
   "source": [
    "times = data[4]\n",
    "times"
   ]
  },
  {
   "cell_type": "code",
   "execution_count": 5,
   "metadata": {},
   "outputs": [
    {
     "data": {
      "text/plain": [
       "['1:34.71',\n",
       " '1:37.87',\n",
       " '1:35.15',\n",
       " '1:37.20',\n",
       " '1:36.29',\n",
       " '1:36.00',\n",
       " '1:35.63',\n",
       " '1:35.42',\n",
       " '1:42.01']"
      ]
     },
     "execution_count": 5,
     "metadata": {},
     "output_type": "execute_result"
    }
   ],
   "source": [
    "swimmer, age, distance, stroke, times2, average = data\n",
    "times2"
   ]
  },
  {
   "cell_type": "code",
   "execution_count": 6,
   "metadata": {},
   "outputs": [],
   "source": [
    "import os"
   ]
  },
  {
   "cell_type": "code",
   "execution_count": 7,
   "metadata": {},
   "outputs": [],
   "source": [
    "swimclub.FOLDER = \"swimdata/\"\n",
    "swim_files = os . listdir(swimclub.FOLDER)"
   ]
  },
  {
   "cell_type": "code",
   "execution_count": 8,
   "metadata": {},
   "outputs": [],
   "source": [
    "swim_files.remove('.DS_Store')"
   ]
  },
  {
   "cell_type": "code",
   "execution_count": 9,
   "metadata": {},
   "outputs": [
    {
     "data": {
      "text/plain": [
       "60"
      ]
     },
     "execution_count": 9,
     "metadata": {},
     "output_type": "execute_result"
    }
   ],
   "source": [
    "len(swim_files)"
   ]
  },
  {
   "cell_type": "code",
   "execution_count": 10,
   "metadata": {},
   "outputs": [
    {
     "name": "stdout",
     "output_type": "stream",
     "text": [
      "1 Processing: Abi-10-100m-Back.txt\n",
      "2 Processing: Abi-10-100m-Breast.txt\n",
      "3 Processing: Abi-10-50m-Back.txt\n",
      "4 Processing: Abi-10-50m-Breast.txt\n",
      "5 Processing: Abi-10-50m-Free.txt\n",
      "6 Processing: Ali-12-100m-Back.txt\n",
      "7 Processing: Ali-12-100m-Free.txt\n",
      "8 Processing: Alison-14-100m-Breast.txt\n",
      "9 Processing: Alison-14-100m-Free.txt\n",
      "10 Processing: Aurora-13-50m-Free.txt\n",
      "11 Processing: Bill-18-100m-Back.txt\n",
      "12 Processing: Bill-18-200m-Back.txt\n",
      "13 Processing: Blake-15-100m-Back.txt\n",
      "14 Processing: Blake-15-100m-Fly.txt\n",
      "15 Processing: Blake-15-100m-Free.txt\n",
      "16 Processing: Calvin-9-50m-Back.txt\n",
      "17 Processing: Calvin-9-50m-Fly.txt\n",
      "18 Processing: Calvin-9-50m-Free.txt\n",
      "19 Processing: Carl-15-100m-Back.txt\n",
      "20 Processing: Chris-17-100m-Back.txt\n",
      "21 Processing: Chris-17-100m-Breast.txt\n",
      "22 Processing: Darius-13-100m-Back.txt\n",
      "23 Processing: Darius-13-100m-Breast.txt\n",
      "24 Processing: Darius-13-100m-Fly.txt\n",
      "25 Processing: Darius-13-200m-IM.txt\n",
      "26 Processing: Dave-17-100m-Free.txt\n",
      "27 Processing: Dave-17-200m-Back.txt\n",
      "28 Processing: Elba-14-100m-Free.txt\n",
      "29 Processing: Emma-13-100m-Breast.txt\n",
      "30 Processing: Emma-13-100m-Free.txt\n",
      "31 Processing: Erika-15-100m-Breast.txt\n",
      "32 Processing: Erika-15-100m-Free.txt\n",
      "33 Processing: Erika-15-200m-Breast.txt\n",
      "34 Processing: Hannah-13-100m-Back.txt\n",
      "35 Processing: Hannah-13-100m-Free.txt\n",
      "36 Processing: Katie-9-100m-Back.txt\n",
      "37 Processing: Katie-9-100m-Breast.txt\n",
      "38 Processing: Katie-9-100m-Free.txt\n",
      "39 Processing: Katie-9-50m-Back.txt\n",
      "40 Processing: Katie-9-50m-Breast.txt\n",
      "41 Processing: Katie-9-50m-Fly.txt\n",
      "42 Processing: Katie-9-50m-Free.txt\n",
      "43 Processing: Lizzie-14-100m-Back.txt\n",
      "44 Processing: Lizzie-14-100m-Free.txt\n",
      "45 Processing: Maria-9-50m-Free.txt\n",
      "46 Processing: Mike-15-100m-Back.txt\n",
      "47 Processing: Mike-15-100m-Fly.txt\n",
      "48 Processing: Mike-15-100m-Free.txt\n",
      "49 Processing: Mike-15-200m-Free.txt\n",
      "50 Processing: Mike-15-200m-IM.txt\n",
      "51 Processing: Owen-15-100m-Free.txt\n",
      "52 Processing: Ruth-13-100m-Back.txt\n",
      "53 Processing: Ruth-13-100m-Free.txt\n",
      "54 Processing: Ruth-13-200m-Back.txt\n",
      "55 Processing: Ruth-13-200m-Free.txt\n",
      "56 Processing: Ruth-13-400m-Free.txt\n",
      "57 Processing: Tasmin-15-100m-Back.txt\n",
      "58 Processing: Tasmin-15-100m-Breast.txt\n",
      "59 Processing: Tasmin-15-100m-Free.txt\n",
      "60 Processing: Tasmin-15-200m-Breast.txt\n"
     ]
    }
   ],
   "source": [
    "import swimclub\n",
    "for n,s in enumerate (swim_files, 1):\n",
    "    print (n, \"Processing:\", s )\n",
    "    swimclub.read_swim_data(s)"
   ]
  }
 ],
 "metadata": {
  "kernelspec": {
   "display_name": "Python 3",
   "language": "python",
   "name": "python3"
  },
  "language_info": {
   "codemirror_mode": {
    "name": "ipython",
    "version": 3
   },
   "file_extension": ".py",
   "mimetype": "text/x-python",
   "name": "python",
   "nbconvert_exporter": "python",
   "pygments_lexer": "ipython3",
   "version": "3.12.5"
  }
 },
 "nbformat": 4,
 "nbformat_minor": 2
}
